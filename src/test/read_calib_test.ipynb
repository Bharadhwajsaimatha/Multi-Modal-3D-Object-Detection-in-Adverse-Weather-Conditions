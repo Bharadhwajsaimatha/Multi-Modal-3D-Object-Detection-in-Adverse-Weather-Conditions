{
 "cells": [
  {
   "cell_type": "code",
   "execution_count": 6,
   "metadata": {},
   "outputs": [],
   "source": [
    "import os\n",
    "import numpy as np"
   ]
  },
  {
   "cell_type": "code",
   "execution_count": 2,
   "metadata": {},
   "outputs": [],
   "source": [
    "file_path = \"/home/jovyan/sai-semocc1-workspace/practice/sereact/data/dl_challenge/8b061a8a-9915-11ee-9103-bbb8eae05561/calib.txt\""
   ]
  },
  {
   "cell_type": "code",
   "execution_count": 9,
   "metadata": {},
   "outputs": [
    {
     "name": "stdout",
     "output_type": "stream",
     "text": [
      "[886.4093777018063, 0.0, 303.5, 0.0, 882.1595018665421, 240.5, 0.0, 0.0, 1.0]\n",
      "[[886.4093777    0.         303.5       ]\n",
      " [  0.         882.15950187 240.5       ]\n",
      " [  0.           0.           1.        ]]\n",
      "[[1. 0. 0. 0.]\n",
      " [0. 1. 0. 0.]\n",
      " [0. 0. 1. 0.]\n",
      " [0. 0. 0. 1.]]\n"
     ]
    }
   ],
   "source": [
    "with open(file_path,'r') as f:\n",
    "    lines = f.readlines()\n",
    "    intrin = list(map(float,lines[0].split()))\n",
    "    print(intrin)\n",
    "    extrin = list(map(float,lines[1].split()))\n",
    "    mat_k = np.array(intrin).reshape(3,3)\n",
    "    mat_E = np.array(extrin).reshape(4,4)\n",
    "\n",
    "print(mat_k)\n",
    "print(mat_E)\n"
   ]
  }
 ],
 "metadata": {
  "kernelspec": {
   "display_name": "Python 3",
   "language": "python",
   "name": "python3"
  },
  "language_info": {
   "codemirror_mode": {
    "name": "ipython",
    "version": 3
   },
   "file_extension": ".py",
   "mimetype": "text/x-python",
   "name": "python",
   "nbconvert_exporter": "python",
   "pygments_lexer": "ipython3",
   "version": "3.12.7"
  }
 },
 "nbformat": 4,
 "nbformat_minor": 2
}
